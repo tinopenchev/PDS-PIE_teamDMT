{
 "cells": [
  {
   "cell_type": "code",
   "execution_count": 2,
   "metadata": {},
   "outputs": [],
   "source": [
    "import pandas as pd\n",
    "import numpy as np"
   ]
  },
  {
   "cell_type": "code",
   "execution_count": 3,
   "metadata": {},
   "outputs": [],
   "source": [
    "dt_dis = pd.read_csv('emdat_public_2023_09_21_query_uid-Mh0Ip8.csv')\n",
    "\n",
    "file_path = '/Users/tino/Desktop/Applied Data Science Tutorial/GDP_growthRate_annual.csv'\n",
    "df_gdp = pd.read_csv(file_path, delimiter=';')\n"
   ]
  },
  {
   "cell_type": "code",
   "execution_count": 4,
   "metadata": {},
   "outputs": [
    {
     "name": "stdout",
     "output_type": "stream",
     "text": [
      "Dis No                                        object\n",
      "Year                                           int64\n",
      "Seq                                            int64\n",
      "Glide                                         object\n",
      "Disaster Group                                object\n",
      "Disaster Subgroup                             object\n",
      "Disaster Type                                 object\n",
      "Disaster Subtype                              object\n",
      "Disaster Subsubtype                           object\n",
      "Event Name                                    object\n",
      "Country                                       object\n",
      "ISO                                           object\n",
      "Region                                        object\n",
      "Continent                                     object\n",
      "Location                                      object\n",
      "Origin                                        object\n",
      "Associated Dis                                object\n",
      "Associated Dis2                               object\n",
      "OFDA Response                                 object\n",
      "Appeal                                        object\n",
      "Declaration                                   object\n",
      "AID Contribution ('000 US$)                  float64\n",
      "Dis Mag Value                                float64\n",
      "Dis Mag Scale                                 object\n",
      "Latitude                                     float64\n",
      "Longitude                                    float64\n",
      "Local Time                                    object\n",
      "River Basin                                   object\n",
      "Start Year                                     int64\n",
      "Start Month                                  float64\n",
      "Start Day                                    float64\n",
      "End Year                                       int64\n",
      "End Month                                    float64\n",
      "End Day                                      float64\n",
      "Total Deaths                                 float64\n",
      "No Injured                                   float64\n",
      "No Affected                                  float64\n",
      "No Homeless                                  float64\n",
      "Total Affected                               float64\n",
      "Reconstruction Costs ('000 US$)              float64\n",
      "Reconstruction Costs, Adjusted ('000 US$)    float64\n",
      "Insured Damages ('000 US$)                   float64\n",
      "Insured Damages, Adjusted ('000 US$)         float64\n",
      "Total Damages ('000 US$)                     float64\n",
      "Total Damages, Adjusted ('000 US$)           float64\n",
      "CPI                                          float64\n",
      "Adm Level                                     object\n",
      "Admin1 Code                                   object\n",
      "Admin2 Code                                   object\n",
      "Geo Locations                                 object\n",
      "dtype: object\n"
     ]
    },
    {
     "data": {
      "text/plain": [
       "\"\\nVariables to model on:\\n1. Year\\n2. Country\\n3. Dis Mag Value, Dis Mag Scale\\n4. Number of Deaths\\n5. Total Affected  \\n6.  Reconstruction Costs ('000 US$)              float64\\n    Reconstruction Costs, Adjusted ('000 US$)    float64\\n    Insured Damages ('000 US$)                   float64\\n    Insured Damages, Adjusted ('000 US$)         float64\\n    Total Damages ('000 US$)                     float64\\n    Total Damages, Adjusted ('000 US$)           float64 \\n7. Start Day                                       int64\\n   End Day                                         int64\\n\""
      ]
     },
     "execution_count": 4,
     "metadata": {},
     "output_type": "execute_result"
    }
   ],
   "source": [
    "\n",
    "print(dt_dis.dtypes)\n",
    "'''\n",
    "We are predicting for : GDP growth rate\n",
    "\n",
    "'''\n",
    "\n",
    "'''\n",
    "Variables to model on:\n",
    "1. Year\n",
    "2. Country\n",
    "3. Dis Mag Value, Dis Mag Scale\n",
    "4. Number of Deaths\n",
    "5. Total Affected  \n",
    "6.  Reconstruction Costs ('000 US$)              float64\n",
    "    Reconstruction Costs, Adjusted ('000 US$)    float64\n",
    "    Insured Damages ('000 US$)                   float64\n",
    "    Insured Damages, Adjusted ('000 US$)         float64\n",
    "    Total Damages ('000 US$)                     float64\n",
    "    Total Damages, Adjusted ('000 US$)           float64 \n",
    "7. Start Day                                       int64\n",
    "   End Day                                         int64\n",
    "'''"
   ]
  },
  {
   "cell_type": "code",
   "execution_count": 5,
   "metadata": {},
   "outputs": [
    {
     "name": "stdout",
     "output_type": "stream",
     "text": [
      "Dis Mag Scale\n",
      "Km2           4641\n",
      "Kph           2473\n",
      "Vaccinated     890\n",
      "Richter        648\n",
      "°C             487\n",
      "Name: count, dtype: int64\n"
     ]
    }
   ],
   "source": [
    "print(dt_dis[\"Dis Mag Scale\"].value_counts())"
   ]
  },
  {
   "cell_type": "code",
   "execution_count": 13,
   "metadata": {},
   "outputs": [
    {
     "name": "stdout",
     "output_type": "stream",
     "text": [
      "                               0    \\\n",
      "0  Last Updated Date,\"2023-09-19\",   \n",
      "\n",
      "                                                 1    \\\n",
      "0  Country Name,\"Country Code\",\"Indicator Name\",\"...   \n",
      "\n",
      "                                                 2    \\\n",
      "0  Aruba,\"ABW\",\"GDP growth (annual %)\",\"NY.GDP.MK...   \n",
      "\n",
      "                                                 3    \\\n",
      "0  Africa Eastern and Southern,\"AFE\",\"GDP growth ...   \n",
      "\n",
      "                                                 4    \\\n",
      "0  Afghanistan,\"AFG\",\"GDP growth (annual %)\",\"NY....   \n",
      "\n",
      "                                                 5    \\\n",
      "0  Africa Western and Central,\"AFW\",\"GDP growth (...   \n",
      "\n",
      "                                                 6    \\\n",
      "0  Angola,\"AGO\",\"GDP growth (annual %)\",\"NY.GDP.M...   \n",
      "\n",
      "                                                 7    \\\n",
      "0  Albania,\"ALB\",\"GDP growth (annual %)\",\"NY.GDP....   \n",
      "\n",
      "                                                 8    \\\n",
      "0  Andorra,\"AND\",\"GDP growth (annual %)\",\"NY.GDP....   \n",
      "\n",
      "                                                 9    ...  \\\n",
      "0  Arab World,\"ARB\",\"GDP growth (annual %)\",\"NY.G...  ...   \n",
      "\n",
      "                                                 258  \\\n",
      "0  Virgin Islands (U.S.),\"VIR\",\"GDP growth (annua...   \n",
      "\n",
      "                                                 259  \\\n",
      "0  Vietnam,\"VNM\",\"GDP growth (annual %)\",\"NY.GDP....   \n",
      "\n",
      "                                                 260  \\\n",
      "0  Vanuatu,\"VUT\",\"GDP growth (annual %)\",\"NY.GDP....   \n",
      "\n",
      "                                                 261  \\\n",
      "0  World,\"WLD\",\"GDP growth (annual %)\",\"NY.GDP.MK...   \n",
      "\n",
      "                                                 262  \\\n",
      "0  Samoa,\"WSM\",\"GDP growth (annual %)\",\"NY.GDP.MK...   \n",
      "\n",
      "                                                 263  \\\n",
      "0  Kosovo,\"XKX\",\"GDP growth (annual %)\",\"NY.GDP.M...   \n",
      "\n",
      "                                                 264  \\\n",
      "0  Yemen, Rep.,\"YEM\",\"GDP growth (annual %)\",\"NY....   \n",
      "\n",
      "                                                 265  \\\n",
      "0  South Africa,\"ZAF\",\"GDP growth (annual %)\",\"NY...   \n",
      "\n",
      "                                                 266  \\\n",
      "0  Zambia,\"ZMB\",\"GDP growth (annual %)\",\"NY.GDP.M...   \n",
      "\n",
      "                                                 267  \n",
      "0  Zimbabwe,\"ZWE\",\"GDP growth (annual %)\",\"NY.GDP...  \n",
      "\n",
      "[1 rows x 268 columns]\n"
     ]
    }
   ],
   "source": [
    "df_gdp_array = df_gdp.to_numpy()\n",
    "df_gdp_shifted = np.rot90(df_gdp_array)\n",
    "\n",
    "dt_gdp_shifted_df = pd.DataFrame(df_gdp_shifted)\n",
    "\n",
    "print(dt_gdp_shifted_df.head())"
   ]
  },
  {
   "cell_type": "code",
   "execution_count": null,
   "metadata": {},
   "outputs": [],
   "source": []
  }
 ],
 "metadata": {
  "kernelspec": {
   "display_name": "Python 3",
   "language": "python",
   "name": "python3"
  },
  "language_info": {
   "codemirror_mode": {
    "name": "ipython",
    "version": 3
   },
   "file_extension": ".py",
   "mimetype": "text/x-python",
   "name": "python",
   "nbconvert_exporter": "python",
   "pygments_lexer": "ipython3",
   "version": "3.11.5"
  },
  "orig_nbformat": 4
 },
 "nbformat": 4,
 "nbformat_minor": 2
}
